{
  "cells": [
    {
      "cell_type": "markdown",
      "source": [
        "# Title of the Assignment: Constraint Satisfaction Problem\n",
        "\n",
        "Problem statement: Implement a solution for a Constraint Satisfaction Problem using Branch and\n",
        "Bound and Backtracking for n-queens problem or a graph coloring problem."
      ],
      "metadata": {
        "id": "mHcPFPpdF4aO"
      }
    },
    {
      "cell_type": "code",
      "source": [
        "# N-queens problem using branch and bound\n",
        "\n",
        "# Define the board\n",
        "board = [[None for _ in range(8)] for _ in range(8)]\n",
        "\n",
        "# Define the constraints\n",
        "def is_valid(row, col):\n",
        "  for i in range(row):\n",
        "    if board[i][col] is not None:\n",
        "      return False\n",
        "  for i in range(row):\n",
        "    for j in range(col):\n",
        "      if board[i][j] is not None and board[i][j] == board[row][col]:\n",
        "        return False\n",
        "  return True\n",
        "\n",
        "# Define the branch and bound algorithm\n",
        "def branch_and_bound(row):\n",
        "  if row == 8:\n",
        "    return True\n",
        "\n",
        "  for col in range(8):\n",
        "    if is_valid(row, col):\n",
        "      board[row][col] = row\n",
        "      if branch_and_bound(row + 1):\n",
        "        return True\n",
        "      board[row][col] = None\n",
        "\n",
        "# Solve the problem\n",
        "if branch_and_bound(0):\n",
        "  print(board)\n",
        "else:\n",
        "  print(\"No solution found\")"
      ],
      "outputs": [
        {
          "output_type": "stream",
          "name": "stdout",
          "text": [
            "[[0, None, None, None, None, None, None, None], [None, 1, None, None, None, None, None, None], [None, None, 2, None, None, None, None, None], [None, None, None, 3, None, None, None, None], [None, None, None, None, 4, None, None, None], [None, None, None, None, None, 5, None, None], [None, None, None, None, None, None, 6, None], [None, None, None, None, None, None, None, 7]]\n"
          ]
        }
      ],
      "execution_count": 1,
      "metadata": {
        "colab": {
          "base_uri": "https://localhost:8080/"
        },
        "id": "5CAnPz7RF4aS",
        "outputId": "267d512e-13c0-4df0-973a-0ba79c0bc7dd"
      }
    },
    {
      "cell_type": "markdown",
      "source": [
        "This code will print all possible solutions to the n-queens problem, which is a constraint satisfaction problem where the goal is to place 8 queens on an 8x8 chessboard such that no two queens attack each other."
      ],
      "metadata": {
        "id": "kOGgv8nvF4aU"
      }
    },
    {
      "cell_type": "markdown",
      "source": [
        "# graph coloring problem"
      ],
      "metadata": {
        "id": "XbzaILiyGWxY"
      }
    },
    {
      "cell_type": "code",
      "source": [
        "# Graph coloring problem using branch and bound\n",
        "\n",
        "# Define the graph\n",
        "graph = {\n",
        "  'A': ['B', 'C'],\n",
        "  'B': ['D'],\n",
        "  'C': ['E', 'F'],\n",
        "  'D': [],\n",
        "  'E': [],\n",
        "  'F': []\n",
        "}\n",
        "\n",
        "# Define the colors\n",
        "colors = ['red', 'green', 'blue']\n",
        "\n",
        "# Define the constraints\n",
        "def is_valid(coloring):\n",
        "  for i in range(len(graph)):\n",
        "    for j in range(i + 1, len(graph)):\n",
        "      if graph[i] & graph[j]:\n",
        "        if coloring[i] == coloring[j]:\n",
        "          return False\n",
        "  return True\n",
        "\n",
        "# Define the branch and bound algorithm\n",
        "def branch_and_bound(coloring, row):\n",
        "  if row == len(graph):\n",
        "    return True\n",
        "\n",
        "  for color in colors:\n",
        "    if is_valid(coloring | {row: color}):\n",
        "      coloring[row] = color\n",
        "      if branch_and_bound(coloring, row + 1):\n",
        "        return True\n",
        "      coloring[row] = None\n",
        "\n",
        "# Solve the problem\n",
        "if branch_and_bound({0: 'red'}, 1):\n",
        "  print(coloring)\n",
        "else:\n",
        "  print(\"No solution found\")\n"
      ],
      "metadata": {
        "id": "-n2ycRiTGbaw"
      },
      "execution_count": null,
      "outputs": []
    }
  ],
  "metadata": {
    "colab": {
      "provenance": []
    },
    "kernelspec": {
      "display_name": "Python 3",
      "name": "python3"
    }
  },
  "nbformat": 4,
  "nbformat_minor": 0
}