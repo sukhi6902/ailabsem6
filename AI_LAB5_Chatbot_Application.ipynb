{
  "cells": [
    {
      "cell_type": "markdown",
      "source": [
        "# Title of the Assignment: Chatbot application\n",
        "\n",
        "Problem statement: Develop an elementary chatbot for any suitable customer interaction application."
      ],
      "metadata": {
        "id": "qhx3WC7wG0pF"
      }
    },
    {
      "cell_type": "code",
      "source": [
        "# Elementary chatbot for customer interaction application\n",
        "\n",
        "# Import the necessary libraries\n",
        "import random\n",
        "\n",
        "# Define the chatbot class\n",
        "class Chatbot:\n",
        "  def __init__(self):\n",
        "    self.responses = {\n",
        "      'hello': 'Hi there! How can I help you today?',\n",
        "      'bye': 'Goodbye! Have a nice day.',\n",
        "      'what is your name?': 'My name is Vibha.',\n",
        "      'what can you do?': 'I can answer your questions, help you with tasks, and provide information.',\n",
        "      'what is the weather like today?': 'The weather is currently sunny with a high of 75 degrees Fahrenheit.',\n",
        "      'what is the capital of France?': 'The capital of France is Paris.',\n",
        "      'what is the meaning of life?': 'The meaning of life is up to each individual to decide.'\n",
        "    }\n",
        "\n",
        "  def get_response(self, message):\n",
        "    # Check if the message is in the responses dictionary\n",
        "    if message in self.responses:\n",
        "      return self.responses[message]\n",
        "\n",
        "    # Otherwise, generate a random response\n",
        "    else:\n",
        "      return random.choice([\n",
        "        'I don\\'t understand your question.',\n",
        "        'Can you please rephrase your question?',\n",
        "        'I\\'m not sure I can help you with that.',\n",
        "        'I\\'m still under development, but I\\'m learning new things every day.'\n",
        "      ])\n",
        "\n",
        "# Create a chatbot instance\n",
        "chatbot = Chatbot()\n",
        "\n",
        "# Start the conversation\n",
        "while True:\n",
        "  # Get the user's message\n",
        "  message = input('What can I do for you? ')\n",
        "\n",
        "  # Get the chatbot's response\n",
        "  response = chatbot.get_response(message)\n",
        "\n",
        "  # Print the chatbot's response\n",
        "  print(response)"
      ],
      "outputs": [
        {
          "output_type": "stream",
          "name": "stdout",
          "text": [
            "What can I do for you? hello\n",
            "Hi there! How can I help you today?\n",
            "What can I do for you? bye\n",
            "Goodbye! Have a nice day.\n",
            "What can I do for you? what is your name?\n",
            "My name is Vibha.\n"
          ]
        }
      ],
      "execution_count": null,
      "metadata": {
        "colab": {
          "base_uri": "https://localhost:8080/"
        },
        "id": "_zwNmEAKG0pI",
        "outputId": "988e769a-823b-448c-c4cf-027372b5ab69"
      }
    },
    {
      "cell_type": "markdown",
      "source": [
        "This code will create a chatbot that can answer questions, help with tasks, and provide information. The chatbot is trained on a small dataset of responses, but it can also generate random responses if it does not understand the user's question."
      ],
      "metadata": {
        "id": "dPEULsvtG0pL"
      }
    }
  ],
  "metadata": {
    "colab": {
      "provenance": []
    },
    "kernelspec": {
      "display_name": "Python 3",
      "name": "python3"
    }
  },
  "nbformat": 4,
  "nbformat_minor": 0
}