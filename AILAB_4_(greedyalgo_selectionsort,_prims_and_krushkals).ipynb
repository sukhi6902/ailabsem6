{
  "cells": [
    {
      "cell_type": "markdown",
      "source": [
        "Implement any one Greedy search algorithm -\n",
        "\n",
        "a) Selection Sort\n",
        "\n",
        "b) Prim's Minimal Spanning Tree Algorithm\n",
        "\n",
        "c) Kruskal's Minimal Spanning Tree Algorithm"
      ],
      "metadata": {
        "id": "vE14_IXMUGnG"
      }
    },
    {
      "cell_type": "markdown",
      "source": [
        "# Selection Sort"
      ],
      "metadata": {
        "id": "jsDGtu9zUVlI"
      }
    },
    {
      "cell_type": "markdown",
      "source": [
        " Selection sort is a simple sorting algorithm that works by repeatedly finding the minimum element in an unsorted array and swapping it with the first element in the array. This process is repeated until the entire array is sorted."
      ],
      "metadata": {
        "id": "0P8kMHcvUiGD"
      }
    },
    {
      "cell_type": "code",
      "source": [
        "def selectionSort(arr):\n",
        "    for i in range(len(arr)):\n",
        "        min = float('-inf')\n",
        "        for j in range(i + 1, len(arr)):\n",
        "            if arr[i] > arr[j]:\n",
        "                arr[i],arr[j] = arr[j], arr[i]\n",
        "    return arr\n",
        "    \n",
        "print(selectionSort([89,56,45,34,65,76]))"
      ],
      "metadata": {
        "colab": {
          "base_uri": "https://localhost:8080/"
        },
        "id": "fznJZvHkUbhR",
        "outputId": "d5211326-e09d-468c-ecb8-d3776f6e877c"
      },
      "execution_count": 2,
      "outputs": [
        {
          "output_type": "stream",
          "name": "stdout",
          "text": [
            "[34, 45, 56, 65, 76, 89]\n"
          ]
        }
      ]
    },
    {
      "cell_type": "markdown",
      "source": [
        "the steps of the selection sort algorithm:\n",
        "\n",
        "Initialize the variable min to float('-inf').\n",
        "\n",
        "Iterate through the array, starting at index i.\n",
        "\n",
        "For each element in the array, compare it to the value of min.\n",
        "\n",
        "If the element is smaller than min, set min to the value of the element.\n",
        "\n",
        "Once you have iterated through the entire array, the value of min will be the smallest element in the array.\n",
        "\n",
        "Swap the value of min with the value at index i.\n",
        "Repeat steps 2-6, starting at index i + 1.\n",
        "\n",
        "When the process is complete, the array will be sorted."
      ],
      "metadata": {
        "id": "eGmhBR5xU8If"
      }
    },
    {
      "cell_type": "markdown",
      "source": [
        "# Prim's Minimal Spanning Tree Algorithm"
      ],
      "metadata": {
        "id": "n6ItSJWTVE4p"
      }
    },
    {
      "cell_type": "markdown",
      "source": [
        "Prim’s algorithm is also a Greedy algorithm. This algorithm always starts with a single node and moves through several adjacent nodes, in order to explore all of the connected edges along the way."
      ],
      "metadata": {
        "id": "kvyW3ipXXFMM"
      }
    },
    {
      "cell_type": "code",
      "source": [
        "# A Python3 program for\n",
        "# Prim's Minimum Spanning Tree (MST) algorithm.\n",
        "# The program is for adjacency matrix\n",
        "# representation of the graph\n",
        "\n",
        "# Library for INT_MAX\n",
        "import sys\n",
        "\n",
        "\n",
        "class Graph():\n",
        "\tdef __init__(self, vertices):\n",
        "\t\tself.V = vertices\n",
        "\t\tself.graph = [[0 for column in range(vertices)]\n",
        "\t\t\t\t\tfor row in range(vertices)]\n",
        "\n",
        "\t# A utility function to print\n",
        "\t# the constructed MST stored in parent[]\n",
        "\tdef printMST(self, parent):\n",
        "\t\tprint(\"Edge \\tWeight\")\n",
        "\t\tfor i in range(1, self.V):\n",
        "\t\t\tprint(parent[i], \"-\", i, \"\\t\", self.graph[i][parent[i]])\n",
        "\n",
        "\t# A utility function to find the vertex with\n",
        "\t# minimum distance value, from the set of vertices\n",
        "\t# not yet included in shortest path tree\n",
        "\tdef minKey(self, key, mstSet):\n",
        "\n",
        "\t\t# Initialize min value\n",
        "\t\tmin = sys.maxsize\n",
        "\n",
        "\t\tfor v in range(self.V):\n",
        "\t\t\tif key[v] < min and mstSet[v] == False:\n",
        "\t\t\t\tmin = key[v]\n",
        "\t\t\t\tmin_index = v\n",
        "\n",
        "\t\treturn min_index\n",
        "\n",
        "\t# Function to construct and print MST for a graph\n",
        "\t# represented using adjacency matrix representation\n",
        "\tdef primMST(self):\n",
        "\n",
        "\t\t# Key values used to pick minimum weight edge in cut\n",
        "\t\tkey = [sys.maxsize] * self.V\n",
        "\t\tparent = [None] * self.V # Array to store constructed MST\n",
        "\t\t# Make key 0 so that this vertex is picked as first vertex\n",
        "\t\tkey[0] = 0\n",
        "\t\tmstSet = [False] * self.V\n",
        "\n",
        "\t\tparent[0] = -1 # First node is always the root of\n",
        "\n",
        "\t\tfor cout in range(self.V):\n",
        "\n",
        "\t\t\t# Pick the minimum distance vertex from\n",
        "\t\t\t# the set of vertices not yet processed.\n",
        "\t\t\t# u is always equal to src in first iteration\n",
        "\t\t\tu = self.minKey(key, mstSet)\n",
        "\n",
        "\t\t\t# Put the minimum distance vertex in\n",
        "\t\t\t# the shortest path tree\n",
        "\t\t\tmstSet[u] = True\n",
        "\n",
        "\t\t\t# Update dist value of the adjacent vertices\n",
        "\t\t\t# of the picked vertex only if the current\n",
        "\t\t\t# distance is greater than new distance and\n",
        "\t\t\t# the vertex in not in the shortest path tree\n",
        "\t\t\tfor v in range(self.V):\n",
        "\n",
        "\t\t\t\t# graph[u][v] is non zero only for adjacent vertices of m\n",
        "\t\t\t\t# mstSet[v] is false for vertices not yet included in MST\n",
        "\t\t\t\t# Update the key only if graph[u][v] is smaller than key[v]\n",
        "\t\t\t\tif self.graph[u][v] > 0 and mstSet[v] == False \\\n",
        "\t\t\t\tand key[v] > self.graph[u][v]:\n",
        "\t\t\t\t\tkey[v] = self.graph[u][v]\n",
        "\t\t\t\t\tparent[v] = u\n",
        "\n",
        "\t\tself.printMST(parent)\n",
        "\n",
        "\n",
        "# Driver's code\n",
        "if __name__ == '__main__':\n",
        "\tg = Graph(5)\n",
        "\tg.graph = [[0, 2, 0, 6, 0],\n",
        "\t\t\t[2, 0, 3, 8, 5],\n",
        "\t\t\t[0, 3, 0, 0, 7],\n",
        "\t\t\t[6, 8, 0, 0, 9],\n",
        "\t\t\t[0, 5, 7, 9, 0]]\n",
        "\n",
        "\tg.primMST()\n"
      ],
      "metadata": {
        "colab": {
          "base_uri": "https://localhost:8080/"
        },
        "id": "aOWD6LsGXpmx",
        "outputId": "a66af99d-f89b-454f-9b54-5d60782a493d"
      },
      "execution_count": 11,
      "outputs": [
        {
          "output_type": "stream",
          "name": "stdout",
          "text": [
            "Edge \tWeight\n",
            "0 - 1 \t 2\n",
            "1 - 2 \t 3\n",
            "0 - 3 \t 6\n",
            "1 - 4 \t 5\n"
          ]
        }
      ]
    },
    {
      "cell_type": "markdown",
      "source": [
        "The Graph class has the following attributes:\n",
        "\n",
        "V: The number of vertices in the graph.\n",
        "graph: The adjacency matrix of the graph.\n",
        "\n",
        "The Graph class has the following methods:\n",
        "\n",
        "__init__: This method initializes the Graph object.\n",
        "\n",
        "printMST: This method prints the MST of the graph.\n",
        "\n",
        "minKey: This method finds the vertex with the minimum distance value, from the set of vertices not yet included in the shortest path tree.\n",
        "\n",
        "primMST: This method constructs and prints the MST of the graph."
      ],
      "metadata": {
        "id": "08-NROKAX_5z"
      }
    },
    {
      "cell_type": "markdown",
      "source": [
        "# Kruskal's Minimal Spanning Tree Algorithm"
      ],
      "metadata": {
        "id": "F8AMZ-5AVLPi"
      }
    },
    {
      "cell_type": "markdown",
      "source": [
        "In Kruskal’s algorithm, sort all edges of the given graph in increasing order. Then it keeps on adding new edges and nodes in the MST if the newly added edge does not form a cycle."
      ],
      "metadata": {
        "id": "30V4_4ljXJln"
      }
    },
    {
      "cell_type": "code",
      "source": [
        "# Python program for Kruskal's algorithm to find\n",
        "# Minimum Spanning Tree of a given connected,\n",
        "# undirected and weighted graph\n",
        "\n",
        "\n",
        "# Class to represent a graph\n",
        "class Graph:\n",
        "\n",
        "\tdef __init__(self, vertices):\n",
        "\t\tself.V = vertices\n",
        "\t\tself.graph = []\n",
        "\n",
        "\t# Function to add an edge to graph\n",
        "\tdef addEdge(self, u, v, w):\n",
        "\t\tself.graph.append([u, v, w])\n",
        "\n",
        "\t# A utility function to find set of an element i\n",
        "\t# (truly uses path compression technique)\n",
        "\tdef find(self, parent, i):\n",
        "\t\tif parent[i] != i:\n",
        "\n",
        "\t\t\t# Reassignment of node's parent\n",
        "\t\t\t# to root node as\n",
        "\t\t\t# path compression requires\n",
        "\t\t\tparent[i] = self.find(parent, parent[i])\n",
        "\t\treturn parent[i]\n",
        "\n",
        "\t# A function that does union of two sets of x and y\n",
        "\t# (uses union by rank)\n",
        "\tdef union(self, parent, rank, x, y):\n",
        "\n",
        "\t\t# Attach smaller rank tree under root of\n",
        "\t\t# high rank tree (Union by Rank)\n",
        "\t\tif rank[x] < rank[y]:\n",
        "\t\t\tparent[x] = y\n",
        "\t\telif rank[x] > rank[y]:\n",
        "\t\t\tparent[y] = x\n",
        "\n",
        "\t\t# If ranks are same, then make one as root\n",
        "\t\t# and increment its rank by one\n",
        "\t\telse:\n",
        "\t\t\tparent[y] = x\n",
        "\t\t\trank[x] += 1\n",
        "\n",
        "\t# The main function to construct MST\n",
        "\t# using Kruskal's algorithm\n",
        "\tdef KruskalMST(self):\n",
        "\n",
        "\t\t# This will store the resultant MST\n",
        "\t\tresult = []\n",
        "\n",
        "\t\t# An index variable, used for sorted edges\n",
        "\t\ti = 0\n",
        "\n",
        "\t\t# An index variable, used for result[]\n",
        "\t\te = 0\n",
        "\n",
        "\t\t# Sort all the edges in\n",
        "\t\t# non-decreasing order of their\n",
        "\t\t# weight\n",
        "\t\tself.graph = sorted(self.graph,\n",
        "\t\t\t\t\t\t\tkey=lambda item: item[2])\n",
        "\n",
        "\t\tparent = []\n",
        "\t\trank = []\n",
        "\n",
        "\t\t# Create V subsets with single elements\n",
        "\t\tfor node in range(self.V):\n",
        "\t\t\tparent.append(node)\n",
        "\t\t\trank.append(0)\n",
        "\n",
        "\t\t# Number of edges to be taken is less than to V-1\n",
        "\t\twhile e < self.V - 1:\n",
        "\n",
        "\t\t\t# Pick the smallest edge and increment\n",
        "\t\t\t# the index for next iteration\n",
        "\t\t\tu, v, w = self.graph[i]\n",
        "\t\t\ti = i + 1\n",
        "\t\t\tx = self.find(parent, u)\n",
        "\t\t\ty = self.find(parent, v)\n",
        "\n",
        "\t\t\t# If including this edge doesn't\n",
        "\t\t\t# cause cycle, then include it in result\n",
        "\t\t\t# and increment the index of result\n",
        "\t\t\t# for next edge\n",
        "\t\t\tif x != y:\n",
        "\t\t\t\te = e + 1\n",
        "\t\t\t\tresult.append([u, v, w])\n",
        "\t\t\t\tself.union(parent, rank, x, y)\n",
        "\t\t\t# Else discard the edge\n",
        "\n",
        "\t\tminimumCost = 0\n",
        "\t\tprint(\"Edges in the constructed MST\")\n",
        "\t\tfor u, v, weight in result:\n",
        "\t\t\tminimumCost += weight\n",
        "\t\t\tprint(\"%d -- %d == %d\" % (u, v, weight))\n",
        "\t\tprint(\"Minimum Spanning Tree\", minimumCost)\n",
        "\n",
        "\n",
        "# Driver code\n",
        "if __name__ == '__main__':\n",
        "\tg = Graph(4)\n",
        "\tg.addEdge(0, 1, 10)\n",
        "\tg.addEdge(0, 2, 6)\n",
        "\tg.addEdge(0, 3, 5)\n",
        "\tg.addEdge(1, 3, 15)\n",
        "\tg.addEdge(2, 3, 4)\n",
        "\n",
        "\t# Function call\n",
        "\tg.KruskalMST()\n"
      ],
      "metadata": {
        "colab": {
          "base_uri": "https://localhost:8080/"
        },
        "id": "MXxkjwUFVOqr",
        "outputId": "9491bdb3-97a4-4d13-fd39-8e1a8a98108c"
      },
      "execution_count": 9,
      "outputs": [
        {
          "output_type": "stream",
          "name": "stdout",
          "text": [
            "Edges in the constructed MST\n",
            "2 -- 3 == 4\n",
            "0 -- 3 == 5\n",
            "0 -- 1 == 10\n",
            "Minimum Spanning Tree 19\n"
          ]
        }
      ]
    },
    {
      "cell_type": "markdown",
      "source": [
        "The algorithm first creates a list of all of the edges in the graph. It then sorts the edges by weight. Next, it creates two lists: parent and rank. The parent list stores the parent of each vertex in the graph. The rank list stores the rank of each vertex in the graph. The rank of a vertex is a measure of how deep the vertex is in the tree."
      ],
      "metadata": {
        "id": "gc5lMhfOYOqg"
      }
    }
  ],
  "metadata": {
    "colab": {
      "provenance": []
    },
    "kernelspec": {
      "display_name": "Python 3",
      "name": "python3"
    }
  },
  "nbformat": 4,
  "nbformat_minor": 0
}