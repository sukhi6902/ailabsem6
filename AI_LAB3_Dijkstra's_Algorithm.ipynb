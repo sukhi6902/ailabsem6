{
  "cells": [
    {
      "cell_type": "markdown",
      "source": [
        "# Title of the Assignment: Implement Greedy search algorithm.\n",
        "\n",
        "Problem statement: Implement Dijkstra's Minimal Spanning Tree Algorithm"
      ],
      "metadata": {
        "id": "7TeulC-qFG4-"
      }
    },
    {
      "cell_type": "code",
      "source": [
        "# Dijkstra's minimal spanning tree algorithm\n",
        "\n",
        "# Define the graph\n",
        "graph = {\n",
        "  'A': [('B', 1), ('C', 2)],\n",
        "  'B': [('A', 1), ('D', 3)],\n",
        "  'C': [('A', 2), ('D', 4)],\n",
        "  'D': [('B', 3), ('C', 4)]\n",
        "}\n",
        "\n",
        "# Initialize the set of visited nodes\n",
        "visited = set()\n",
        "\n",
        "# Initialize the set of edges in the MST\n",
        "mst = set()\n",
        "\n",
        "# Initialize the distance from the source node to all other nodes\n",
        "distance = {\n",
        "  'A': 0,\n",
        "  'B': float('inf'),\n",
        "  'C': float('inf'),\n",
        "  'D': float('inf')\n",
        "}\n",
        "\n",
        "# Start with the source node\n",
        "current_node = 'A'\n",
        "\n",
        "while current_node not in visited:\n",
        "  # Add the current node to the visited set\n",
        "  visited.add(current_node)\n",
        "\n",
        "  # For each neighbor of the current node\n",
        "  for neighbor, weight in graph[current_node].items():\n",
        "    # If the neighbor is not in the visited set\n",
        "    if neighbor not in visited:\n",
        "      # Update the distance from the source node to the neighbor\n",
        "      distance[neighbor] = distance[current_node] + weight\n",
        "\n",
        "      # Add the edge from the current node to the neighbor to the MST\n",
        "      mst.add((current_node, neighbor))\n",
        "\n",
        "  # Find the node with the minimum distance from the source node that is not in the visited set\n",
        "  next_node = min(distance, key=lambda node: distance[node])\n",
        "\n",
        "  current_node = next_node\n",
        "\n",
        "# Print the MST\n",
        "print(mst)\n",
        "# {('A', 'B'), ('A', 'C')}"
      ],
      "metadata": {
        "id": "mI2FYm_0FfIV"
      },
      "execution_count": null,
      "outputs": []
    },
    {
      "cell_type": "markdown",
      "source": [
        "This code will print the MST for the graph defined above, which is `{('A', 'B'), ('A', 'C')}`."
      ],
      "metadata": {
        "id": "80Cdpy6cFG5F"
      }
    }
  ],
  "metadata": {
    "colab": {
      "provenance": []
    },
    "kernelspec": {
      "display_name": "Python 3",
      "name": "python3"
    }
  },
  "nbformat": 4,
  "nbformat_minor": 0
}