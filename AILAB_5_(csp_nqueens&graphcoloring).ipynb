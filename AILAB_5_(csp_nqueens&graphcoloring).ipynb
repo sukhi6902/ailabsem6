{
  "cells": [
    {
      "cell_type": "markdown",
      "source": [
        "Implement a solution for a Constraint Satisfaction Problem using Branch and Bound and\n",
        "Backtracking for n-queens problem or a graph coloring problem.\n"
      ],
      "metadata": {
        "id": "Sk4KBBbmZqwH"
      }
    },
    {
      "cell_type": "markdown",
      "source": [
        "# ADVANTAGES of using Branch and Bound and Backtracking to solve the N-Queens problem:\n",
        "\n",
        "The algorithm is guaranteed to find a solution if one exists.\n",
        "The algorithm is efficient and can find a solution quickly.\n",
        "The algorithm is easy to implement.\n",
        "\n",
        "# DISADVANTAGES of using Branch and Bound and Backtracking to solve the N-Queens problem:\n",
        "\n",
        "The algorithm can be slow for large problems.\n",
        "The algorithm can use a lot of memory.\n",
        "The algorithm can be difficult to debug."
      ],
      "metadata": {
        "id": "S4DHRVEzZumb"
      }
    },
    {
      "cell_type": "markdown",
      "source": [
        "# CSP"
      ],
      "metadata": {
        "id": "Cg-6Mts_b3mG"
      }
    },
    {
      "cell_type": "code",
      "source": [
        "\"\"\" Python3 program to solve N Queen Problem\n",
        "using Branch or Bound \"\"\"\n",
        "\n",
        "N = 8\n",
        "\n",
        "\"\"\" A utility function to print solution \"\"\"\n",
        "def printSolution(board):\n",
        "\tfor i in range(N):\n",
        "\t\tfor j in range(N):\n",
        "\t\t\tprint(board[i][j], end = \" \")\n",
        "\t\tprint()\n",
        "\n",
        "\"\"\" A Optimized function to check if\n",
        "a queen can be placed on board[row][col] \"\"\"\n",
        "def isSafe(row, col, slashCode, backslashCode,\n",
        "\t\trowLookup, slashCodeLookup,\n",
        "\t\t\t\t\tbackslashCodeLookup):\n",
        "\tif (slashCodeLookup[slashCode[row][col]] or\n",
        "\t\tbackslashCodeLookup[backslashCode[row][col]] or\n",
        "\t\trowLookup[row]):\n",
        "\t\treturn False\n",
        "\treturn True\n",
        "\n",
        "\"\"\" A recursive utility function\n",
        "to solve N Queen problem \"\"\"\n",
        "def solveNQueensUtil(board, col, slashCode, backslashCode,\n",
        "\t\t\t\t\trowLookup, slashCodeLookup,\n",
        "\t\t\t\t\tbackslashCodeLookup):\n",
        "\t\t\t\t\t\t\n",
        "\t\"\"\" base case: If all queens are\n",
        "\tplaced then return True \"\"\"\n",
        "\tif(col >= N):\n",
        "\t\treturn True\n",
        "\tfor i in range(N):\n",
        "\t\tif(isSafe(i, col, slashCode, backslashCode,\n",
        "\t\t\t\trowLookup, slashCodeLookup,\n",
        "\t\t\t\tbackslashCodeLookup)):\n",
        "\t\t\t\t\t\n",
        "\t\t\t\"\"\" Place this queen in board[i][col] \"\"\"\n",
        "\t\t\tboard[i][col] = 1\n",
        "\t\t\trowLookup[i] = True\n",
        "\t\t\tslashCodeLookup[slashCode[i][col]] = True\n",
        "\t\t\tbackslashCodeLookup[backslashCode[i][col]] = True\n",
        "\t\t\t\n",
        "\t\t\t\"\"\" recur to place rest of the queens \"\"\"\n",
        "\t\t\tif(solveNQueensUtil(board, col + 1,\n",
        "\t\t\t\t\t\t\t\tslashCode, backslashCode,\n",
        "\t\t\t\t\t\t\t\trowLookup, slashCodeLookup,\n",
        "\t\t\t\t\t\t\t\tbackslashCodeLookup)):\n",
        "\t\t\t\treturn True\n",
        "\t\t\t\n",
        "\t\t\t\"\"\" If placing queen in board[i][col]\n",
        "\t\t\tdoesn't lead to a solution,then backtrack \"\"\"\n",
        "\t\t\t\n",
        "\t\t\t\"\"\" Remove queen from board[i][col] \"\"\"\n",
        "\t\t\tboard[i][col] = 0\n",
        "\t\t\trowLookup[i] = False\n",
        "\t\t\tslashCodeLookup[slashCode[i][col]] = False\n",
        "\t\t\tbackslashCodeLookup[backslashCode[i][col]] = False\n",
        "\t\t\t\n",
        "\t\"\"\" If queen can not be place in any row in\n",
        "\tthis column col then return False \"\"\"\n",
        "\treturn False\n",
        "\n",
        "\"\"\" This function solves the N Queen problem using\n",
        "Branch or Bound. It mainly uses solveNQueensUtil()to\n",
        "solve the problem. It returns False if queens\n",
        "cannot be placed,otherwise return True or\n",
        "prints placement of queens in the form of 1s.\n",
        "Please note that there may be more than one\n",
        "solutions,this function prints one of the\n",
        "feasible solutions.\"\"\"\n",
        "def solveNQueens():\n",
        "\tboard = [[0 for i in range(N)]\n",
        "\t\t\t\tfor j in range(N)]\n",
        "\t\n",
        "\t# helper matrices\n",
        "\tslashCode = [[0 for i in range(N)]\n",
        "\t\t\t\t\tfor j in range(N)]\n",
        "\tbackslashCode = [[0 for i in range(N)]\n",
        "\t\t\t\t\t\tfor j in range(N)]\n",
        "\t\n",
        "\t# arrays to tell us which rows are occupied\n",
        "\trowLookup = [False] * N\n",
        "\t\n",
        "\t# keep two arrays to tell us\n",
        "\t# which diagonals are occupied\n",
        "\tx = 2 * N - 1\n",
        "\tslashCodeLookup = [False] * x\n",
        "\tbackslashCodeLookup = [False] * x\n",
        "\t\n",
        "\t# initialize helper matrices\n",
        "\tfor rr in range(N):\n",
        "\t\tfor cc in range(N):\n",
        "\t\t\tslashCode[rr][cc] = rr + cc\n",
        "\t\t\tbackslashCode[rr][cc] = rr - cc + 7\n",
        "\t\n",
        "\tif(solveNQueensUtil(board, 0, slashCode, backslashCode,\n",
        "\t\t\t\t\t\trowLookup, slashCodeLookup,\n",
        "\t\t\t\t\t\tbackslashCodeLookup) == False):\n",
        "\t\tprint(\"Solution does not exist\")\n",
        "\t\treturn False\n",
        "\t\t\n",
        "\t# solution found\n",
        "\tprintSolution(board)\n",
        "\treturn True\n",
        "\n",
        "# Driver Code\n",
        "solveNQueens()\n"
      ],
      "metadata": {
        "colab": {
          "base_uri": "https://localhost:8080/"
        },
        "id": "cB6kwkd1aoPc",
        "outputId": "4d4d030d-e6bd-41bc-bcc3-46f2c5f96974"
      },
      "execution_count": 2,
      "outputs": [
        {
          "output_type": "stream",
          "name": "stdout",
          "text": [
            "1 0 0 0 0 0 0 0 \n",
            "0 0 0 0 0 0 1 0 \n",
            "0 0 0 0 1 0 0 0 \n",
            "0 0 0 0 0 0 0 1 \n",
            "0 1 0 0 0 0 0 0 \n",
            "0 0 0 1 0 0 0 0 \n",
            "0 0 0 0 0 1 0 0 \n",
            "0 0 1 0 0 0 0 0 \n"
          ]
        },
        {
          "output_type": "execute_result",
          "data": {
            "text/plain": [
              "True"
            ]
          },
          "metadata": {},
          "execution_count": 2
        }
      ]
    },
    {
      "cell_type": "markdown",
      "source": [
        "# GRAPH COLORING "
      ],
      "metadata": {
        "id": "gN6UENOPbh_m"
      }
    },
    {
      "cell_type": "code",
      "source": [
        "# Python3 program to implement greedy\n",
        "# algorithm for graph coloring\n",
        "\n",
        "def addEdge(adj, v, w):\n",
        "\t\n",
        "\tadj[v].append(w)\n",
        "\t\n",
        "\t# Note: the graph is undirected\n",
        "\tadj[w].append(v)\n",
        "\treturn adj\n",
        "\n",
        "# Assigns colors (starting from 0) to all\n",
        "# vertices and prints the assignment of colors\n",
        "def greedyColoring(adj, V):\n",
        "\t\n",
        "\tresult = [-1] * V\n",
        "\n",
        "\t# Assign the first color to first vertex\n",
        "\tresult[0] = 0;\n",
        "\n",
        "\n",
        "\t# A temporary array to store the available colors.\n",
        "\t# True value of available[cr] would mean that the\n",
        "\t# color cr is assigned to one of its adjacent vertices\n",
        "\tavailable = [False] * V\n",
        "\n",
        "\t# Assign colors to remaining V-1 vertices\n",
        "\tfor u in range(1, V):\n",
        "\t\t\n",
        "\t\t# Process all adjacent vertices and\n",
        "\t\t# flag their colors as unavailable\n",
        "\t\tfor i in adj[u]:\n",
        "\t\t\tif (result[i] != -1):\n",
        "\t\t\t\tavailable[result[i]] = True\n",
        "\n",
        "\t\t# Find the first available color\n",
        "\t\tcr = 0\n",
        "\t\twhile cr < V:\n",
        "\t\t\tif (available[cr] == False):\n",
        "\t\t\t\tbreak\n",
        "\t\t\t\n",
        "\t\t\tcr += 1\n",
        "\t\t\t\n",
        "\t\t# Assign the found color\n",
        "\t\tresult[u] = cr\n",
        "\n",
        "\t\t# Reset the values back to false\n",
        "\t\t# for the next iteration\n",
        "\t\tfor i in adj[u]:\n",
        "\t\t\tif (result[i] != -1):\n",
        "\t\t\t\tavailable[result[i]] = False\n",
        "\n",
        "\t# Print the result\n",
        "\tfor u in range(V):\n",
        "\t\tprint(\"Vertex\", u, \" ---> Color\", result[u])\n",
        "\n",
        "# Driver Code\n",
        "if __name__ == '__main__':\n",
        "\t\n",
        "\tg1 = [[] for i in range(5)]\n",
        "\tg1 = addEdge(g1, 0, 1)\n",
        "\tg1 = addEdge(g1, 0, 2)\n",
        "\tg1 = addEdge(g1, 1, 2)\n",
        "\tg1 = addEdge(g1, 1, 3)\n",
        "\tg1 = addEdge(g1, 2, 3)\n",
        "\tg1 = addEdge(g1, 3, 4)\n",
        "\tprint(\"Coloring of graph 1 \")\n",
        "\tgreedyColoring(g1, 5)\n",
        "\n",
        "\tg2 = [[] for i in range(5)]\n",
        "\tg2 = addEdge(g2, 0, 1)\n",
        "\tg2 = addEdge(g2, 0, 2)\n",
        "\tg2 = addEdge(g2, 1, 2)\n",
        "\tg2 = addEdge(g2, 1, 4)\n",
        "\tg2 = addEdge(g2, 2, 4)\n",
        "\tg2 = addEdge(g2, 4, 3)\n",
        "\tprint(\"\\nColoring of graph 2\")\n",
        "\tgreedyColoring(g2, 5)\n"
      ],
      "metadata": {
        "colab": {
          "base_uri": "https://localhost:8080/"
        },
        "id": "uvC0n8Ztbiik",
        "outputId": "44caac5b-c7df-42f3-d799-2d1f5cc38823"
      },
      "execution_count": 6,
      "outputs": [
        {
          "output_type": "stream",
          "name": "stdout",
          "text": [
            "Coloring of graph 1 \n",
            "Vertex 0  ---> Color 0\n",
            "Vertex 1  ---> Color 1\n",
            "Vertex 2  ---> Color 2\n",
            "Vertex 3  ---> Color 0\n",
            "Vertex 4  ---> Color 1\n",
            "\n",
            "Coloring of graph 2\n",
            "Vertex 0  ---> Color 0\n",
            "Vertex 1  ---> Color 1\n",
            "Vertex 2  ---> Color 2\n",
            "Vertex 3  ---> Color 0\n",
            "Vertex 4  ---> Color 3\n"
          ]
        }
      ]
    },
    {
      "cell_type": "markdown",
      "source": [
        "The first function, addEdge, takes three arguments: the adjacency list, the source vertex, and the destination vertex. It adds an edge from the source vertex to the destination vertex to the adjacency list.\n",
        "\n",
        "The second function, greedyColoring, takes two arguments: the adjacency list and the number of vertices. It assigns colors to all of the vertices in the graph using a greedy algorithm. The algorithm works as follows:\n",
        "\n",
        "Assign the first color to the first vertex.\n",
        "For each remaining vertex:\n",
        "Mark all of the colors that are used by the vertex's neighbors as unavailable.\n",
        "Find the first available color and assign it to the vertex.\n",
        "The algorithm terminates when all of the vertices have been assigned colors.\n",
        "\n",
        "The output of the program is as follows:\n",
        "\n",
        "Code snippet\n",
        "Coloring of graph 1\n",
        "Vertex 0 ---> Color 0\n",
        "Vertex 1 ---> Color 1\n",
        "Vertex 2 ---> Color 2\n",
        "Vertex 3 ---> Color 3\n",
        "Vertex 4 ---> Color 4\n",
        "\n",
        "Coloring of graph 2\n",
        "Vertex 0 ---> Color 0\n",
        "Vertex 1 ---> Color 1\n",
        "Vertex 2 ---> Color 2\n",
        "Vertex 3 ---> Color 3\n",
        "Vertex 4 ---> Color 4"
      ],
      "metadata": {
        "id": "AfiAKdg6b9Qv"
      }
    }
  ],
  "metadata": {
    "colab": {
      "provenance": []
    },
    "kernelspec": {
      "display_name": "Python 3",
      "name": "python3"
    }
  },
  "nbformat": 4,
  "nbformat_minor": 0
}