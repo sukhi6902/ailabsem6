{
  "cells": [
    {
      "cell_type": "markdown",
      "source": [
        "Implement Expert System for Hospitals and medical facilities\n"
      ],
      "metadata": {
        "id": "0siTOK_jiyXE"
      }
    },
    {
      "cell_type": "code",
      "source": [
        "from collections import defaultdict\n",
        "\n",
        "class ExpertSystem:\n",
        "    def __init__(self):\n",
        "        self.rules = defaultdict(list)\n",
        "        self.facts = {}\n",
        "\n",
        "    def add_rule(self, condition, action):\n",
        "        self.rules[tuple(condition.items())].append(action)\n",
        "\n",
        "    def set_fact(self, fact, value):\n",
        "        self.facts[fact] = value\n",
        "\n",
        "    def execute(self):\n",
        "        for condition, actions in self.rules.items():\n",
        "            if all(self.facts.get(fact) == value for fact, value in condition):\n",
        "                for action in actions:\n",
        "                    action()\n",
        "\n",
        "# Example usage\n",
        "if __name__ == \"__main__\":\n",
        "    expert_system = ExpertSystem()\n",
        "\n",
        "    # Define rules and actions\n",
        "    condition1 = {'symptom': 'fever', 'duration': 'long'}\n",
        "    action1 = lambda: print(\"This patient needs further investigation.\")\n",
        "\n",
        "    condition2 = {'symptom': 'cough', 'duration': 'short'}\n",
        "    action2 = lambda: print(\"This patient may have a common cold.\")\n",
        "\n",
        "    condition3 = {'symptom': 'cough', 'duration': 'long'}\n",
        "    action3 = lambda: print(\"This patient may have bronchitis.\")\n",
        "\n",
        "    # Add rules to the expert system\n",
        "    expert_system.add_rule(condition1, action1)\n",
        "    expert_system.add_rule(condition2, action2)\n",
        "    expert_system.add_rule(condition3, action3)\n",
        "\n",
        "    # Take input for facts\n",
        "    symptom = input(\"Enter the symptom: \")\n",
        "    duration = input(\"Enter the duration: \")\n",
        "\n",
        "    # Set the facts\n",
        "    expert_system.set_fact('symptom', symptom)\n",
        "    expert_system.set_fact('duration', duration)\n",
        "\n",
        "    # Execute the expert system\n",
        "    expert_system.execute()\n"
      ],
      "metadata": {
        "colab": {
          "base_uri": "https://localhost:8080/"
        },
        "id": "WpYdIn98l6zm",
        "outputId": "d705d5c9-724f-456f-909e-33ff7679d554"
      },
      "execution_count": 14,
      "outputs": [
        {
          "output_type": "stream",
          "name": "stdout",
          "text": [
            "Enter the symptom: fever\n",
            "Enter the duration: long\n",
            "This patient needs further investigation.\n"
          ]
        }
      ]
    }
  ],
  "metadata": {
    "colab": {
      "provenance": []
    },
    "kernelspec": {
      "display_name": "Python 3",
      "name": "python3"
    }
  },
  "nbformat": 4,
  "nbformat_minor": 0
}