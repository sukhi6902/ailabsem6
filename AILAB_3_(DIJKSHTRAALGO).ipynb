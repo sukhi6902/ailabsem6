{
  "cells": [
    {
      "cell_type": "markdown",
      "source": [
        "# Implement Greedy search algorithm - Dijkstra's Algorithm"
      ],
      "metadata": {
        "id": "yBLyJN5CDdex"
      }
    },
    {
      "cell_type": "markdown",
      "source": [
        "\n",
        "* algorithm for finding the shortest paths from a \n",
        "  singlesource vertex to all other vertices in a graph.\n",
        "\n",
        "* works by iteratively adding vertices to a set of vertices that have been visited.\n",
        "\n",
        "* greedy algorithm, which means that it always chooses the next vertex to add to the set of visited vertices based on the distance to the vertex.\n",
        "\n",
        "* very efficient algorithm for finding the shortest paths in a graph."
      ],
      "metadata": {
        "id": "8ZG9InjJEvHO"
      }
    },
    {
      "cell_type": "code",
      "source": [
        "# Python program for Dijkstra's single\n",
        "# source shortest path algorithm. The program is\n",
        "# for adjacency matrix representation of the graph\n",
        "class Graph():\n",
        "\n",
        "\tdef __init__(self, vertices):\n",
        "\t\tself.V = vertices\n",
        "\t\tself.graph = [[0 for column in range(vertices)]\n",
        "\t\t\t\t\tfor row in range(vertices)]\n",
        "\n",
        "\tdef printSolution(self, dist):\n",
        "\t\tprint(\"Vertex \\t Distance from Source\")\n",
        "\t\tfor node in range(self.V):\n",
        "\t\t\tprint(node, \"\\t\\t\", dist[node])\n",
        "\n",
        "\t# A utility function to find the vertex with\n",
        "\t# minimum distance value, from the set of vertices\n",
        "\t# not yet included in shortest path tree\n",
        "\tdef minDistance(self, dist, sptSet):\n",
        "\n",
        "\t\t# Initialize minimum distance for next node\n",
        "\t\tmin = 1e7\n",
        "\n",
        "\t\t# Search not nearest vertex not in the\n",
        "\t\t# shortest path tree\n",
        "\t\tfor v in range(self.V):\n",
        "\t\t\tif dist[v] < min and sptSet[v] == False:\n",
        "\t\t\t\tmin = dist[v]\n",
        "\t\t\t\tmin_index = v\n",
        "\n",
        "\t\treturn min_index\n",
        "\n",
        "\t# Function that implements Dijkstra's single source\n",
        "\t# shortest path algorithm for a graph represented\n",
        "\t# using adjacency matrix representation\n",
        "\tdef dijkstra(self, src):\n",
        "\n",
        "\t\tdist = [1e7] * self.V\n",
        "\t\tdist[src] = 0\n",
        "\t\tsptSet = [False] * self.V\n",
        "\n",
        "\t\tfor cout in range(self.V):\n",
        "\n",
        "\t\t\t# Pick the minimum distance vertex from\n",
        "\t\t\t# the set of vertices not yet processed.\n",
        "\t\t\t# u is always equal to src in first iteration\n",
        "\t\t\tu = self.minDistance(dist, sptSet)\n",
        "\n",
        "\t\t\t# Put the minimum distance vertex in the\n",
        "\t\t\t# shortest path tree\n",
        "\t\t\tsptSet[u] = True\n",
        "\n",
        "\t\t\t# Update dist value of the adjacent vertices\n",
        "\t\t\t# of the picked vertex only if the current\n",
        "\t\t\t# distance is greater than new distance and\n",
        "\t\t\t# the vertex in not in the shortest path tree\n",
        "\t\t\tfor v in range(self.V):\n",
        "\t\t\t\tif (self.graph[u][v] > 0 and\n",
        "\t\t\t\tsptSet[v] == False and\n",
        "\t\t\t\tdist[v] > dist[u] + self.graph[u][v]):\n",
        "\t\t\t\t\tdist[v] = dist[u] + self.graph[u][v]\n",
        "\n",
        "\t\tself.printSolution(dist)\n",
        "\n",
        "# Driver program\n",
        "g = Graph(9)\n",
        "g.graph = [[0, 4, 0, 0, 0, 0, 0, 8, 0],\n",
        "\t\t[4, 0, 8, 0, 0, 0, 0, 11, 0],\n",
        "\t\t[0, 8, 0, 7, 0, 4, 0, 0, 2],\n",
        "\t\t[0, 0, 7, 0, 9, 14, 0, 0, 0],\n",
        "\t\t[0, 0, 0, 9, 0, 10, 0, 0, 0],\n",
        "\t\t[0, 0, 4, 14, 10, 0, 2, 0, 0],\n",
        "\t\t[0, 0, 0, 0, 0, 2, 0, 1, 6],\n",
        "\t\t[8, 11, 0, 0, 0, 0, 1, 0, 7],\n",
        "\t\t[0, 0, 2, 0, 0, 0, 6, 7, 0]\n",
        "\t\t]\n",
        "\n",
        "g.dijkstra(0)\n"
      ],
      "metadata": {
        "colab": {
          "base_uri": "https://localhost:8080/"
        },
        "id": "d_VNEE2vEJuf",
        "outputId": "e57796b0-00ca-47e9-9a44-6758f7fae62e"
      },
      "execution_count": 6,
      "outputs": [
        {
          "output_type": "stream",
          "name": "stdout",
          "text": [
            "Vertex \t Distance from Source\n",
            "0 \t\t 0\n",
            "1 \t\t 4\n",
            "2 \t\t 12\n",
            "3 \t\t 19\n",
            "4 \t\t 21\n",
            "5 \t\t 11\n",
            "6 \t\t 9\n",
            "7 \t\t 8\n",
            "8 \t\t 14\n"
          ]
        }
      ]
    },
    {
      "cell_type": "markdown",
      "source": [
        "The Graph class represents a graph using an adjacency matrix.\n",
        "\n",
        "The printSolution() function prints the shortest distances from the source vertex to all other vertices.\n",
        "\n",
        "The minDistance() function finds the vertex with the minimum distance from the source vertex.\n",
        "\n",
        "The dijkstra() function implements Dijkstra's algorithm for finding the shortest paths from the source vertex to all other vertices.\n",
        "\n",
        "The driver program creates a graph with 9 vertices and sets the distances between each pair of vertices. \n",
        "\n",
        "The program then calls g.dijkstra(0) to find the shortest paths from vertex 0 to all other vertices. The program prints the shortest distances."
      ],
      "metadata": {
        "id": "Cyts9f6yEcqj"
      }
    }
  ],
  "metadata": {
    "colab": {
      "provenance": []
    },
    "kernelspec": {
      "display_name": "Python 3",
      "name": "python3"
    }
  },
  "nbformat": 4,
  "nbformat_minor": 0
}