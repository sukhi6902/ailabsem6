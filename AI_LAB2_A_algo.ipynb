{
  "cells": [
    {
      "cell_type": "markdown",
      "source": [
        "# Title of the Assignment: A* algorithm for 8 puzzle problem\n",
        "\n",
        "Problem statement: Implement A star Algorithm for any game search problem."
      ],
      "metadata": {
        "id": "zHMZRPnSEX5V"
      }
    },
    {
      "cell_type": "code",
      "source": [
        "# A* algorithm for 8 puzzle problem\n",
        "\n",
        "# Define the board state\n",
        "class BoardState:\n",
        "  def __init__(self, tiles):\n",
        "    self.tiles = tiles\n",
        "\n",
        "  def __eq__(self, other):\n",
        "    return self.tiles == other.tiles\n",
        "\n",
        "  def __hash__(self):\n",
        "    return hash(tuple(self.tiles))\n",
        "\n",
        "  def is_goal(self):\n",
        "    return self.tiles == [1, 2, 3, 4, 5, 6, 7, 8, 0]\n",
        "\n",
        "# Define the heuristic function\n",
        "def heuristic(board_state):\n",
        "  misplaced_tiles = 0\n",
        "  for i in range(9):\n",
        "    if board_state.tiles[i] != i + 1:\n",
        "      misplaced_tiles += 1\n",
        "  return misplaced_tiles\n",
        "\n",
        "# Define the A* algorithm\n",
        "def a_star(start_state, goal_state):\n",
        "  open_set = set([start_state])\n",
        "  closed_set = set()\n",
        "\n",
        "  while open_set:\n",
        "    current_state = min(open_set, key=lambda state: state.f_score)\n",
        "    open_set.remove(current_state)\n",
        "\n",
        "    if current_state.is_goal():\n",
        "      return current_state.path()\n",
        "\n",
        "    closed_set.add(current_state)\n",
        "\n",
        "    for neighbor in current_state.neighbors():\n",
        "      if neighbor not in closed_set:\n",
        "        neighbor.g_score = current_state.g_score + 1\n",
        "        neighbor.f_score = neighbor.g_score + heuristic(neighbor)\n",
        "        open_set.add(neighbor)\n",
        "\n",
        "# Example\n",
        "start_state = BoardState([\n",
        "  1, 2, 3,\n",
        "  4, 0, 5,\n",
        "  6, 7, 8\n",
        "])\n",
        "goal_state = BoardState([\n",
        "  1, 2, 3,\n",
        "  4, 5, 6,\n",
        "  7, 8, 0\n",
        "])\n",
        "\n",
        "path = a_star(start_state, goal_state).path()\n",
        "\n",
        "print(path)"
      ],
      "outputs": [
        {
          "output_type": "error",
          "ename": "AttributeError",
          "evalue": "ignored",
          "traceback": [
            "\u001b[0;31m---------------------------------------------------------------------------\u001b[0m",
            "\u001b[0;31mAttributeError\u001b[0m                            Traceback (most recent call last)",
            "\u001b[0;32m<ipython-input-3-d36ef90944a3>\u001b[0m in \u001b[0;36m<cell line: 57>\u001b[0;34m()\u001b[0m\n\u001b[1;32m     55\u001b[0m ])\n\u001b[1;32m     56\u001b[0m \u001b[0;34m\u001b[0m\u001b[0m\n\u001b[0;32m---> 57\u001b[0;31m \u001b[0mpath\u001b[0m \u001b[0;34m=\u001b[0m \u001b[0ma_star\u001b[0m\u001b[0;34m(\u001b[0m\u001b[0mstart_state\u001b[0m\u001b[0;34m,\u001b[0m \u001b[0mgoal_state\u001b[0m\u001b[0;34m)\u001b[0m\u001b[0;34m.\u001b[0m\u001b[0mpath\u001b[0m\u001b[0;34m(\u001b[0m\u001b[0;34m)\u001b[0m\u001b[0;34m\u001b[0m\u001b[0;34m\u001b[0m\u001b[0m\n\u001b[0m\u001b[1;32m     58\u001b[0m \u001b[0;34m\u001b[0m\u001b[0m\n\u001b[1;32m     59\u001b[0m \u001b[0mprint\u001b[0m\u001b[0;34m(\u001b[0m\u001b[0mpath\u001b[0m\u001b[0;34m)\u001b[0m\u001b[0;34m\u001b[0m\u001b[0;34m\u001b[0m\u001b[0m\n",
            "\u001b[0;32m<ipython-input-3-d36ef90944a3>\u001b[0m in \u001b[0;36ma_star\u001b[0;34m(start_state, goal_state)\u001b[0m\n\u001b[1;32m     29\u001b[0m \u001b[0;34m\u001b[0m\u001b[0m\n\u001b[1;32m     30\u001b[0m   \u001b[0;32mwhile\u001b[0m \u001b[0mopen_set\u001b[0m\u001b[0;34m:\u001b[0m\u001b[0;34m\u001b[0m\u001b[0;34m\u001b[0m\u001b[0m\n\u001b[0;32m---> 31\u001b[0;31m     \u001b[0mcurrent_state\u001b[0m \u001b[0;34m=\u001b[0m \u001b[0mmin\u001b[0m\u001b[0;34m(\u001b[0m\u001b[0mopen_set\u001b[0m\u001b[0;34m,\u001b[0m \u001b[0mkey\u001b[0m\u001b[0;34m=\u001b[0m\u001b[0;32mlambda\u001b[0m \u001b[0mstate\u001b[0m\u001b[0;34m:\u001b[0m \u001b[0mstate\u001b[0m\u001b[0;34m.\u001b[0m\u001b[0mf_score\u001b[0m\u001b[0;34m)\u001b[0m\u001b[0;34m\u001b[0m\u001b[0;34m\u001b[0m\u001b[0m\n\u001b[0m\u001b[1;32m     32\u001b[0m     \u001b[0mopen_set\u001b[0m\u001b[0;34m.\u001b[0m\u001b[0mremove\u001b[0m\u001b[0;34m(\u001b[0m\u001b[0mcurrent_state\u001b[0m\u001b[0;34m)\u001b[0m\u001b[0;34m\u001b[0m\u001b[0;34m\u001b[0m\u001b[0m\n\u001b[1;32m     33\u001b[0m \u001b[0;34m\u001b[0m\u001b[0m\n",
            "\u001b[0;32m<ipython-input-3-d36ef90944a3>\u001b[0m in \u001b[0;36m<lambda>\u001b[0;34m(state)\u001b[0m\n\u001b[1;32m     29\u001b[0m \u001b[0;34m\u001b[0m\u001b[0m\n\u001b[1;32m     30\u001b[0m   \u001b[0;32mwhile\u001b[0m \u001b[0mopen_set\u001b[0m\u001b[0;34m:\u001b[0m\u001b[0;34m\u001b[0m\u001b[0;34m\u001b[0m\u001b[0m\n\u001b[0;32m---> 31\u001b[0;31m     \u001b[0mcurrent_state\u001b[0m \u001b[0;34m=\u001b[0m \u001b[0mmin\u001b[0m\u001b[0;34m(\u001b[0m\u001b[0mopen_set\u001b[0m\u001b[0;34m,\u001b[0m \u001b[0mkey\u001b[0m\u001b[0;34m=\u001b[0m\u001b[0;32mlambda\u001b[0m \u001b[0mstate\u001b[0m\u001b[0;34m:\u001b[0m \u001b[0mstate\u001b[0m\u001b[0;34m.\u001b[0m\u001b[0mf_score\u001b[0m\u001b[0;34m)\u001b[0m\u001b[0;34m\u001b[0m\u001b[0;34m\u001b[0m\u001b[0m\n\u001b[0m\u001b[1;32m     32\u001b[0m     \u001b[0mopen_set\u001b[0m\u001b[0;34m.\u001b[0m\u001b[0mremove\u001b[0m\u001b[0;34m(\u001b[0m\u001b[0mcurrent_state\u001b[0m\u001b[0;34m)\u001b[0m\u001b[0;34m\u001b[0m\u001b[0;34m\u001b[0m\u001b[0m\n\u001b[1;32m     33\u001b[0m \u001b[0;34m\u001b[0m\u001b[0m\n",
            "\u001b[0;31mAttributeError\u001b[0m: 'BoardState' object has no attribute 'f_score'"
          ]
        }
      ],
      "execution_count": 3,
      "metadata": {
        "colab": {
          "base_uri": "https://localhost:8080/",
          "height": 380
        },
        "id": "lfO4ZXBUEX5a",
        "outputId": "6fa1dd99-a701-414c-9c9d-10fe484abefb"
      }
    }
  ],
  "metadata": {
    "colab": {
      "provenance": []
    },
    "kernelspec": {
      "display_name": "Python 3",
      "name": "python3"
    }
  },
  "nbformat": 4,
  "nbformat_minor": 0
}