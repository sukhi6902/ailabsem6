{
  "cells": [
    {
      "cell_type": "markdown",
      "source": [
        "\n",
        "# Title of the Assignment: DFS and BFS using recursive algorithm\n",
        "\n",
        "Problem statement: Implement depth first search algorithm and Breadth First Search algorithm,\n",
        "Use an undirected graph and develop a recursive algorithm for searching all the vertices of a graph\n",
        "or tree data structure. \n",
        "\n"
      ],
      "metadata": {
        "id": "rtgelFy7D7Hg"
      }
    },
    {
      "cell_type": "code",
      "source": [
        "# DFS\n",
        "def dfs(graph, start, visited):\n",
        "  visited.add(start)\n",
        "  for neighbor in graph[start]:\n",
        "    if neighbor not in visited:\n",
        "      dfs(graph, neighbor, visited)\n",
        "\n",
        "# BFS\n",
        "def bfs(graph, start):\n",
        "  visited = set([start])\n",
        "  queue = [start]\n",
        "  while queue:\n",
        "    node = queue.pop(0)\n",
        "    for neighbor in graph[node]:\n",
        "      if neighbor not in visited:\n",
        "        visited.add(neighbor)\n",
        "        queue.append(neighbor)\n",
        "\n",
        "# Example\n",
        "graph = {\n",
        "  'A': ['B', 'C'],\n",
        "  'B': ['D'],\n",
        "  'C': ['E', 'F'],\n",
        "  'D': [],\n",
        "  'E': [],\n",
        "  'F': []\n",
        "}\n",
        "\n",
        "# DFS\n",
        "visited = set()\n",
        "dfs(graph, 'A', visited)\n",
        "print(visited)\n",
        "# {'A', 'B', 'C', 'D', 'E', 'F'}\n",
        "\n",
        "# BFS\n",
        "visited = set()\n",
        "queue = ['A']\n",
        "while queue:\n",
        "  node = queue.pop(0)\n",
        "  print(node)\n",
        "  for neighbor in graph[node]:\n",
        "    if neighbor not in visited:\n",
        "      visited.add(neighbor)\n",
        "      queue.append(neighbor)\n",
        "# A\n",
        "# B\n",
        "# C\n",
        "# D\n",
        "# E\n",
        "# F"
      ],
      "outputs": [
        {
          "output_type": "stream",
          "name": "stdout",
          "text": [
            "{'F', 'E', 'A', 'C', 'D', 'B'}\n",
            "A\n",
            "B\n",
            "C\n",
            "D\n",
            "E\n",
            "F\n"
          ]
        }
      ],
      "execution_count": 1,
      "metadata": {
        "colab": {
          "base_uri": "https://localhost:8080/"
        },
        "id": "t_I2DJcrD5SK",
        "outputId": "111e1e3e-be1b-472d-8160-1633798e73b6"
      }
    },
    {
      "cell_type": "markdown",
      "source": [
        "<div class=\"md-recitation\">\n",
        "  Sources\n",
        "  <ol>\n",
        "  <li><a href=\"https://github.com/LarsIndus/algorithms-DS\">https://github.com/LarsIndus/algorithms-DS</a></li>\n",
        "  <li><a href=\"https://github.com/jcwen96/dsci553_21sp\">https://github.com/jcwen96/dsci553_21sp</a></li>\n",
        "  </ol>\n",
        "</div>"
      ],
      "metadata": {
        "id": "k03pabI9D5SM"
      }
    }
  ],
  "metadata": {
    "colab": {
      "provenance": []
    },
    "kernelspec": {
      "display_name": "Python 3",
      "name": "python3"
    }
  },
  "nbformat": 4,
  "nbformat_minor": 0
}