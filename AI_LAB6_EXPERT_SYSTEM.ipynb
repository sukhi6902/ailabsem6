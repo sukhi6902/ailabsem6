{
  "cells": [
    {
      "cell_type": "markdown",
      "source": [
        "# Title of the Assignment: Expert System\n",
        "\n",
        "Problem statement: Implement any one of the following Expert System for Hospitals and medical\n",
        "facilities."
      ],
      "metadata": {
        "id": "-u8XjJSRIEqe"
      }
    },
    {
      "cell_type": "code",
      "source": [
        "import random\n",
        "\n",
        "class ExpertSystem:\n",
        "\n",
        "    def __init__(self, disease_knowledge_base):\n",
        "        self.disease_knowledge_base = disease_knowledge_base\n",
        "\n",
        "    def diagnose_disease(self, symptoms):\n",
        "        consistent_diseases = []\n",
        "        for disease, disease_symptoms in self.disease_knowledge_base.items():\n",
        "            if all(symptom in disease_symptoms for symptom in symptoms):\n",
        "                consistent_diseases.append(disease)\n",
        "\n",
        "        if len(consistent_diseases) == 1:\n",
        "            return consistent_diseases[0]\n",
        "        else:\n",
        "            return random.choice(consistent_diseases)\n",
        "\n",
        "\n",
        "disease_knowledge_base = {\n",
        "    'fever': ['high body temperature', 'chills', 'sweating'],\n",
        "    'cough': ['a persistent cough', 'phlegm'],\n",
        "    'sore throat': ['pain in the throat', 'difficulty swallowing']\n",
        "}\n",
        "\n",
        "expert_system = ExpertSystem(disease_knowledge_base)\n",
        "\n",
        "symptoms = input('What are your symptoms? ')\n",
        "\n",
        "disease = expert_system.diagnose_disease(symptoms)\n",
        "\n",
        "print('The most likely diagnosis is {}.'.format(disease))\n"
      ],
      "metadata": {
        "id": "e_a-pWmXJtNH"
      },
      "execution_count": null,
      "outputs": []
    },
    {
      "cell_type": "markdown",
      "source": [
        "This code will create an expert system that can diagnose diseases based on the patient's symptoms. The expert system is trained on a small dataset of diseases and symptoms, but it can also generate random diagnoses if it does not have enough information to make a confident diagnosis."
      ],
      "metadata": {
        "id": "7weJV2yYIEqk"
      }
    }
  ],
  "metadata": {
    "colab": {
      "provenance": []
    },
    "kernelspec": {
      "display_name": "Python 3",
      "name": "python3"
    }
  },
  "nbformat": 4,
  "nbformat_minor": 0
}